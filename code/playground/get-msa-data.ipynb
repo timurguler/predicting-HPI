{
 "cells": [
  {
   "cell_type": "code",
   "execution_count": 11,
   "id": "bd2f8ac9-233d-4e87-a052-880e342531eb",
   "metadata": {},
   "outputs": [],
   "source": [
    "import pandas as pd\n",
    "import numpy as np\n",
    "import os\n",
    "import requests\n",
    "import json\n",
    "import time\n",
    "import matplotlib.pyplot as plt\n",
    "import fred_msa\n",
    "\n",
    "api_key = 'a37b50cd27afbc3ce23a81ddc5541dec'\n",
    "\n",
    "msa_series = pd.read_csv('..\\\\metadata\\\\msa-series.csv')\n",
    "county_series = pd.read_csv('..\\\\metadata\\\\county-series.csv')\n",
    "\n",
    "msa_keywords = [\n",
    "    'Home Price Index (Middle Tier)',\n",
    "    'All-Transactions House Price Index',\n",
    "    'Housing Inventory: Median Listing Price',\n",
    "    'Unemployment Rate',\n",
    "    'Total Gross Domestic Product',\n",
    "    'Resident Population',\n",
    "    'Regional Price Parities',\n",
    "    'Average Weekly Wages for Employees in Total Covered Establishments',                \n",
    "               ]\n",
    "\n",
    "county_keywords = [\n",
    "    'SNAP Benefits Recipients',\n",
    "    'Estimated Percent of People of All Ages in Poverty',\n",
    "    'Number of Private Establishments for All Industries',\n",
    "    'New Patent Assignments',\n",
    "    'Premature Death Rate',\n",
    "    'Equifax Subprime Credit Population',\n",
    "    'Combined Violent and Property Crime Offenses' \n",
    "]\n",
    "\n",
    "fred_msa.save_all_series_data(api_key, msa_series, msa_keywords)\n",
    "fred_msa.save_all_series_data(api_key, county_series, county_keywords, msa=False)"
   ]
  }
 ],
 "metadata": {
  "kernelspec": {
   "display_name": "Python 3 (ipykernel)",
   "language": "python",
   "name": "python3"
  },
  "language_info": {
   "codemirror_mode": {
    "name": "ipython",
    "version": 3
   },
   "file_extension": ".py",
   "mimetype": "text/x-python",
   "name": "python",
   "nbconvert_exporter": "python",
   "pygments_lexer": "ipython3",
   "version": "3.9.7"
  }
 },
 "nbformat": 4,
 "nbformat_minor": 5
}
